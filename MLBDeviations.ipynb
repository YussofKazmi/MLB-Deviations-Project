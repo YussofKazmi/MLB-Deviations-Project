{
 "cells": [
  {
   "cell_type": "code",
   "execution_count": 1,
   "metadata": {
    "ExecuteTime": {
     "end_time": "2020-10-26T12:14:40.971738Z",
     "start_time": "2020-10-26T12:14:40.757690Z"
    }
   },
   "outputs": [],
   "source": [
    "import pandas as pd\n",
    "import numpy as np\n",
    "import os\n",
    "import csv\n",
    "\n",
    "df = pd.DataFrame(columns=['Date', 'Visiting Team', 'Home Team' , 'Visiting Score', 'Home Score'])\n"
   ]
  },
  {
   "cell_type": "code",
   "execution_count": 2,
   "metadata": {
    "ExecuteTime": {
     "end_time": "2020-10-26T12:14:40.975739Z",
     "start_time": "2020-10-26T12:14:40.972738Z"
    }
   },
   "outputs": [],
   "source": [
    "filenames = [i for i in os.listdir(\"data\")]\n",
    "filenames = sorted(filenames)[:-1]\n",
    "\n",
    "#(filenames)"
   ]
  },
  {
   "cell_type": "code",
   "execution_count": 3,
   "metadata": {
    "ExecuteTime": {
     "end_time": "2020-10-26T12:14:40.981740Z",
     "start_time": "2020-10-26T12:14:40.976740Z"
    }
   },
   "outputs": [],
   "source": [
    "def fileReader(i):\n",
    "    df = pd.DataFrame(columns=['Date', 'Visiting Team', 'Home Team' , 'Visiting Score', 'Home Score'])\n",
    "    with open('data\\\\' + i) as csvfile:\n",
    "        reader = csv.reader(csvfile, delimiter = ',')\n",
    "        for row in reader:\n",
    "            #print(row[0:11])\n",
    "            newRow = {\n",
    "                'Date': row[0][:4],\n",
    "                'Visiting Team' : row[3],\n",
    "                'Home Team' : row[6],\n",
    "                'Visiting Score' : int(row[9]),\n",
    "                'Home Score': int(row[10])\n",
    "                    }\n",
    "            #print(newRow)\n",
    "            df = df.append(newRow, ignore_index=True)\n",
    "        \n",
    "    return ReOrientForMasterDataFramePart1( df, teamData(df))\n"
   ]
  },
  {
   "cell_type": "code",
   "execution_count": 4,
   "metadata": {
    "ExecuteTime": {
     "end_time": "2020-10-26T12:14:40.990742Z",
     "start_time": "2020-10-26T12:14:40.982740Z"
    }
   },
   "outputs": [],
   "source": [
    "def fileReaderPart3(i):\n",
    "    df = pd.DataFrame(columns=['Date', 'Visiting Team', 'Home Team' , 'Visiting Score', 'Home Score'])\n",
    "    with open('data\\\\' + i) as csvfile:\n",
    "        reader = csv.reader(csvfile, delimiter = ',')\n",
    "        for row in reader:\n",
    "            #print(row[0:11])\n",
    "            newRow = {\n",
    "                'Date': row[0][:4],\n",
    "                'Visiting Team' : row[3],\n",
    "                'Home Team' : row[6],\n",
    "                'Visiting Score' : int(row[9]),\n",
    "                'Home Score': int(row[10])\n",
    "                    }\n",
    "            #print(newRow)\n",
    "            df = df.append(newRow, ignore_index=True)\n",
    "    return df"
   ]
  },
  {
   "cell_type": "code",
   "execution_count": 5,
   "metadata": {
    "ExecuteTime": {
     "end_time": "2020-10-26T12:14:41.000745Z",
     "start_time": "2020-10-26T12:14:40.991742Z"
    }
   },
   "outputs": [],
   "source": [
    "def GamesWon(teamName, df):\n",
    "    \n",
    "    homeDf = df[df['Home Team'] == teamName]\n",
    "    awayDf = df[df['Visiting Team'] == teamName]\n",
    "    \n",
    "    \n",
    "    gamesWonHome = pd.DataFrame(homeDf['Home Score'] > homeDf['Visiting Score'] , columns=['Trues'])\n",
    "    gamesWonAway = pd.DataFrame(awayDf['Visiting Score'] > awayDf['Home Score'] , columns=['Trues'])\n",
    "    \n",
    "    return len(gamesWonHome[gamesWonHome['Trues'] == True]) + len(gamesWonAway[gamesWonAway['Trues'] == True] )\n",
    "\n",
    "\n"
   ]
  },
  {
   "cell_type": "code",
   "execution_count": 6,
   "metadata": {
    "ExecuteTime": {
     "end_time": "2020-10-26T12:14:41.008746Z",
     "start_time": "2020-10-26T12:14:41.001744Z"
    }
   },
   "outputs": [],
   "source": [
    "def teamData(df):\n",
    "    teamAndScores = {}\n",
    "    for i in df['Visiting Team'].unique():\n",
    "        homeTeam, awayTeam = df[df['Home Team'] == i].sum(), df[df['Visiting Team'] == i].sum()\n",
    "        RunsAllowed, RunsScored = (homeTeam['Visiting Score'] + awayTeam['Home Score']), (homeTeam['Home Score'] + awayTeam['Visiting Score'])\n",
    "        expectedWinning = (RunsScored * RunsScored) / ((RunsScored * RunsScored) + (RunsAllowed * RunsAllowed))\n",
    "        teamAndScores[i] = {\n",
    "            'Year': df['Date'][0],\n",
    "            'Expected Winning %' : expectedWinning,\n",
    "            '# Of Games': len(df[df['Visiting Team'] == i] + df[df['Home Team'] == i]),\n",
    "            'Expected Games Won': expectedWinning* len(df[df['Visiting Team'] == i] + df[df['Home Team'] == i]),\n",
    "            'Number Of Games Won': GamesWon(i, df),\n",
    "            'Deviation': round(float(GamesWon(i, df) -  expectedWinning* len(df[df['Visiting Team'] == i] + df[df['Home Team'] == i])), 1)\n",
    "        }\n",
    "    return teamAndScores \n",
    "\n",
    "#teamAndScores = teamData(df)"
   ]
  },
  {
   "cell_type": "code",
   "execution_count": 7,
   "metadata": {
    "ExecuteTime": {
     "end_time": "2020-10-26T12:14:41.015748Z",
     "start_time": "2020-10-26T12:14:41.009746Z"
    }
   },
   "outputs": [],
   "source": [
    "\n",
    "def ReOrientForMasterDataFramePart1(df, teamAndScores = teamData(df)):\n",
    "\n",
    "    Part1Df = pd.DataFrame(columns=['Date', 'Name', 'Exp. Wins', 'Actual Wins', 'Deviation'])\n",
    "    for i in teamAndScores.keys():\n",
    "        \n",
    "        temp = {\n",
    "            'Date': teamAndScores[i]['Year'],\n",
    "            'Name': i,\n",
    "            'Exp. Wins': teamAndScores[i]['Expected Games Won'],\n",
    "            'Actual Wins' : teamAndScores[i]['Number Of Games Won'],\n",
    "            'Deviation': teamAndScores[i]['Deviation']\n",
    "            }\n",
    "\n",
    "        Part1Df = Part1Df.append(temp, ignore_index=True)\n",
    "        Part1Df = Part1Df.sort_values(by='Deviation', ascending=False)\n",
    "\n",
    "    return Part1Df\n",
    "    \n",
    "\n"
   ]
  },
  {
   "cell_type": "code",
   "execution_count": 8,
   "metadata": {
    "ExecuteTime": {
     "end_time": "2020-10-26T12:14:41.023750Z",
     "start_time": "2020-10-26T12:14:41.017749Z"
    }
   },
   "outputs": [],
   "source": [
    "def part2FramesCalculator(result):\n",
    "    teamFrames ={} #container for all the team frames\n",
    "\n",
    "    for i in result['Name'].unique():\n",
    "        teamFrames[i] = result[result['Name'] == i]\n",
    "       \n",
    "\n",
    "    return teamFrames"
   ]
  },
  {
   "cell_type": "code",
   "execution_count": 9,
   "metadata": {
    "ExecuteTime": {
     "end_time": "2020-10-26T12:14:41.029750Z",
     "start_time": "2020-10-26T12:14:41.024750Z"
    }
   },
   "outputs": [],
   "source": [
    "def part2MasterFrame(teamDict):\n",
    "    teamRow = {}\n",
    "    \n",
    "    for team in teamDict.keys():\n",
    "        teamRow[team] = {\n",
    "            'Team': team,\n",
    "            '# of Years': int(len(teamDict[team]['Name'])),\n",
    "            'Avg. Wins': round(teamDict[team]['Actual Wins'].mean(), 1),\n",
    "            'Exp. Avg. Wins': round(teamDict[team]['Exp. Wins'].mean(), 1),\n",
    "            'Avg. Deviation': round(teamDict[team]['Actual Wins'].mean() - teamDict[team]['Exp. Wins'].mean(), 1)\n",
    "        }\n",
    "        \n",
    "       \n",
    "    return teamRow"
   ]
  },
  {
   "cell_type": "code",
   "execution_count": 10,
   "metadata": {
    "ExecuteTime": {
     "end_time": "2020-10-26T12:14:41.037754Z",
     "start_time": "2020-10-26T12:14:41.030752Z"
    }
   },
   "outputs": [],
   "source": [
    "def homeGamesWonPart3(yearDataFrame):\n",
    "    \n",
    "    \n",
    "    gamesWonHome = pd.DataFrame(yearDataFrame['Home Score'] > yearDataFrame['Visiting Score'] , columns=['Trues'])\n",
    "   \n",
    "    return len(gamesWonHome[gamesWonHome['Trues'] == True]) /len(yearDataFrame) * 162\n"
   ]
  },
  {
   "cell_type": "code",
   "execution_count": 11,
   "metadata": {
    "ExecuteTime": {
     "end_time": "2020-10-26T12:14:41.045755Z",
     "start_time": "2020-10-26T12:14:41.038753Z"
    }
   },
   "outputs": [],
   "source": [
    "def awayGamesWonPart3(yearDataFrame):\n",
    "    gamesWonAway = pd.DataFrame(yearDataFrame['Home Score'] < yearDataFrame['Visiting Score'] , columns=['Trues'])\n",
    "   \n",
    "    return len(gamesWonAway[gamesWonAway['Trues'] == True])/len(yearDataFrame) * 162"
   ]
  },
  {
   "cell_type": "code",
   "execution_count": 12,
   "metadata": {
    "ExecuteTime": {
     "end_time": "2020-10-26T12:14:41.051756Z",
     "start_time": "2020-10-26T12:14:41.046756Z"
    }
   },
   "outputs": [],
   "source": [
    "def expectedWinsPart3(season):\n",
    "\n",
    "    runsHomeScored = sum(season['Home Score'])\n",
    "    runsAwayScored = sum(season['Visiting Score'])\n",
    "    \n",
    "    runsHomeScored = round((runsHomeScored **2/((runsHomeScored**2) + (runsAwayScored**2))) * 162, 1)\n",
    "    runsAwayScored = round((runsAwayScored **2/((sum(season['Home Score'])**2) + (runsAwayScored**2))) * 162, 1) \n",
    "\n",
    "\n",
    "    return (runsHomeScored, runsAwayScored)"
   ]
  },
  {
   "cell_type": "code",
   "execution_count": 13,
   "metadata": {
    "ExecuteTime": {
     "end_time": "2020-10-26T12:14:41.058757Z",
     "start_time": "2020-10-26T12:14:41.052756Z"
    }
   },
   "outputs": [],
   "source": [
    "def Part3MasterFrame(framesPart3):\n",
    "    teamDictPart3 = {}\n",
    "    MasterDfPart3 = pd.DataFrame()\n",
    "    for season in framesPart3:  \n",
    "       expWins = expectedWinsPart3(season)\n",
    "       teamDictPart3[season['Date'][0]] = [{\n",
    "                'Year': season['Date'][0],\n",
    "                'Team' : 'Home',\n",
    "                '# Actual Wins': round(homeGamesWonPart3(season), 1),\n",
    "                '# Expected Wins': expWins[0],\n",
    "                'Deviation': round(homeGamesWonPart3(season) - expWins[0], 1)\n",
    "                },{\n",
    "                'Year': season['Date'][0],\n",
    "                'Team' : 'Away',\n",
    "                '# Actual Wins': round(awayGamesWonPart3(season), 1),\n",
    "                '# Expected Wins': expWins[1],\n",
    "                'Deviation': round(awayGamesWonPart3(season) - expWins[1], 1)\n",
    "                }\n",
    "                ]\n",
    "                \n",
    "    for season in teamDictPart3.keys():\n",
    "        MasterDfPart3 = MasterDfPart3.append(teamDictPart3[season][0], ignore_index=True)\n",
    "        MasterDfPart3 = MasterDfPart3.append(teamDictPart3[season][1], ignore_index=True)\n",
    "    \n",
    "    \n",
    "    return MasterDfPart3"
   ]
  },
  {
   "cell_type": "markdown",
   "metadata": {},
   "source": [
    "# Analysis - Part 1 - Great Team Performances\n",
    "## 1.) Calculates the expected win/loss pct for each an every team in the MLB, from the years 1871-2018.\n",
    "## 2.) List the top 50 teams performances - measured by how many games the team outperformed (more wins) their expected win loss in the given year."
   ]
  },
  {
   "cell_type": "code",
   "execution_count": 14,
   "metadata": {
    "ExecuteTime": {
     "end_time": "2020-10-26T12:14:41.068760Z",
     "start_time": "2020-10-26T12:14:41.059757Z"
    }
   },
   "outputs": [],
   "source": [
    "MasterDf = pd.DataFrame(columns=['Date', 'Name', 'Exp. Wins', 'Actual Wins', 'Deviation'])"
   ]
  },
  {
   "cell_type": "markdown",
   "metadata": {},
   "source": [
    "## Part 1 DataFrame Construction and Display\n"
   ]
  },
  {
   "cell_type": "code",
   "execution_count": 15,
   "metadata": {
    "ExecuteTime": {
     "end_time": "2020-10-26T12:21:27.444370Z",
     "start_time": "2020-10-26T12:14:41.069760Z"
    }
   },
   "outputs": [
    {
     "name": "stdout",
     "output_type": "stream",
     "text": [
      "    Date Name   Exp. Wins Actual Wins  Deviation\n",
      "0   1905  DET   64.390353          79       14.6\n",
      "0   2017  SDN   57.341416          71       13.7\n",
      "0   2016  TEX   81.851488          95       13.1\n",
      "0   2005  ARI   64.474603          77       12.5\n",
      "0   1972  NYN   70.961943          83       12.0\n",
      "..   ...  ...         ...         ...        ...\n",
      "14  1904  CLE   99.035978          86      -13.0\n",
      "26  1993  NYN   72.783954          59      -13.8\n",
      "14  1906  CLE  102.860705          89      -13.9\n",
      "14  1911  PIT   99.328050          85      -14.3\n",
      "14  1905  CHN  107.703978          92      -15.7\n",
      "\n",
      "[2894 rows x 5 columns]\n"
     ]
    }
   ],
   "source": [
    "frames = []\n",
    "for i in filenames:\n",
    "    #print(i)\n",
    "    frames.append(fileReader(i))\n",
    "\n",
    "#Part1Master = fileReader('GL2017.txt')\n",
    "#Part2Master = fileReader('GL1905.txt')\n",
    "#frames = [Part1Master, Part2Master]\n",
    "result = pd.concat(frames).sort_values(by='Deviation', ascending=False)\n",
    "result = result.drop_duplicates()\n",
    "print(result) \n"
   ]
  },
  {
   "cell_type": "markdown",
   "metadata": {},
   "source": [
    "## Part 1 Top 50 "
   ]
  },
  {
   "cell_type": "code",
   "execution_count": 16,
   "metadata": {
    "ExecuteTime": {
     "end_time": "2020-10-26T12:21:27.451371Z",
     "start_time": "2020-10-26T12:21:27.445371Z"
    }
   },
   "outputs": [
    {
     "name": "stdout",
     "output_type": "stream",
     "text": [
      "    Date Name  Exp. Wins Actual Wins  Deviation\n",
      "0   1905  DET  64.390353          79       14.6\n",
      "0   2017  SDN  57.341416          71       13.7\n",
      "0   2016  TEX  81.851488          95       13.1\n",
      "0   2005  ARI  64.474603          77       12.5\n",
      "0   1972  NYN  70.961943          83       12.0\n",
      "0   2018  SEA  77.034080          89       12.0\n",
      "0   1943  BSN  55.998918          68       12.0\n",
      "0   1955  KC1  51.005340          63       12.0\n",
      "0   1984  NYN  78.073245          90       11.9\n",
      "0   1974  SDN  48.304034          60       11.7\n",
      "0   2004  NYA  89.433326         101       11.6\n",
      "0   2008  ANA  88.518618         100       11.5\n",
      "0   2012  BAL  81.800263          93       11.2\n",
      "0   2007  ARI  78.756663          90       11.2\n",
      "0   1954  BRO  80.852658          92       11.1\n",
      "1   2016  PHI  59.937597          71       11.1\n",
      "0   1924  BRO  81.188873          92       10.8\n",
      "0   1970  CIN  91.415379         102       10.6\n",
      "0   2009  SEA  74.685300          85       10.3\n",
      "19  1963  HOU  55.814011          66       10.2\n",
      "1   2004  CIN  65.787146          76       10.2\n",
      "0   1932  PIT  75.909403          86       10.1\n",
      "0   1947  WS1  53.996936          64       10.0\n",
      "0   1917  SLN  71.956242          82       10.0\n",
      "0   1946  WS1  66.003824          76       10.0\n",
      "27  1997  SFN  80.075490          90        9.9\n",
      "1   1972  CAL  65.172693          75        9.8\n",
      "0   1998  KCA  62.274160          72        9.7\n",
      "0   1961  CIN  83.428962          93        9.6\n",
      "15  1947  CHN  59.384950          69        9.6\n",
      "0   2001  NYN  72.534682          82        9.5\n",
      "0   1918  BRO  47.474046          57        9.5\n",
      "15  1936  SLN  77.597546          87        9.4\n",
      "0   2010  HOU  66.844100          76        9.2\n",
      "0   1981  CIN  56.865237          66        9.1\n",
      "0   1944  CHA  61.938589          71        9.1\n",
      "1   2009  SDN  66.046472          75        9.0\n",
      "0   1978  CIN  83.032992          92        9.0\n",
      "1   1946  PHI  59.963608          69        9.0\n",
      "1   2008  HOU  77.071316          86        8.9\n",
      "1   2007  SEA  79.084897          88        8.9\n",
      "1   1970  PHI  64.134907          73        8.9\n",
      "15  1908  SLN  40.189975          49        8.8\n",
      "0   1977  BAL  88.227017          97        8.8\n",
      "1   2017  KCA  71.377129          80        8.6\n",
      "1   1978  OAK  60.398417          69        8.6\n",
      "0   1904  BSN  46.588198          55        8.4\n",
      "0   1953  CHN  56.567996          65        8.4\n",
      "0   2013  PHI  64.602010          73        8.4\n",
      "0   1994  PIT  44.721372          53        8.3\n",
      "0   2015  ATL  58.712436          67        8.3\n"
     ]
    }
   ],
   "source": [
    "print(result[:51])"
   ]
  },
  {
   "cell_type": "markdown",
   "metadata": {},
   "source": [
    "# Analysis - Part 2 - Historically Lucky and Unlucky Teams\n",
    "## 1.) Calculate the average deviation (in games) between actual performance and expected performance across all years for each team\n",
    "## 2.) Lists top 10 overperforming teams (actually won more games than expected)\n",
    "## 3.) Lists top 10 underperforming teams (actually won less games than expected)."
   ]
  },
  {
   "cell_type": "code",
   "execution_count": 17,
   "metadata": {
    "ExecuteTime": {
     "end_time": "2020-10-26T12:21:27.855463Z",
     "start_time": "2020-10-26T12:21:27.452372Z"
    }
   },
   "outputs": [],
   "source": [
    "teamDict = part2MasterFrame(part2FramesCalculator(result))\n",
    "MasterDfPart2 = pd.DataFrame()\n",
    "for i in teamDict.keys():\n",
    "    MasterDfPart2 = MasterDfPart2.append(teamDict[i], ignore_index= True)"
   ]
  },
  {
   "cell_type": "code",
   "execution_count": 18,
   "metadata": {
    "ExecuteTime": {
     "end_time": "2020-10-26T12:21:27.860464Z",
     "start_time": "2020-10-26T12:21:27.856464Z"
    }
   },
   "outputs": [],
   "source": [
    "MasterDfPart2 = MasterDfPart2[['Team', '# of Years', 'Avg. Wins', 'Exp. Avg. Wins', 'Avg. Deviation']]\n"
   ]
  },
  {
   "cell_type": "code",
   "execution_count": 19,
   "metadata": {
    "ExecuteTime": {
     "end_time": "2020-10-26T12:21:27.867465Z",
     "start_time": "2020-10-26T12:21:27.861465Z"
    }
   },
   "outputs": [],
   "source": [
    "\n",
    "bottom10 = MasterDfPart2[MasterDfPart2['Avg. Wins'] < MasterDfPart2['Exp. Avg. Wins']]"
   ]
  },
  {
   "cell_type": "markdown",
   "metadata": {},
   "source": [
    "## Top 10 Performing Teams"
   ]
  },
  {
   "cell_type": "code",
   "execution_count": 20,
   "metadata": {
    "ExecuteTime": {
     "end_time": "2020-10-26T12:21:27.877468Z",
     "start_time": "2020-10-26T12:21:27.868465Z"
    }
   },
   "outputs": [
    {
     "name": "stdout",
     "output_type": "stream",
     "text": [
      "   Team  # of Years  Avg. Wins  Exp. Avg. Wins  Avg. Deviation\n",
      "46  NY3         1.0       21.0            16.2             4.8\n",
      "49  BRP         1.0       76.0            71.4             4.6\n",
      "61  SR1         1.0       22.0            19.0             3.0\n",
      "62  BL5         1.0       19.0            16.2             2.8\n",
      "45  BUF         2.0       77.0            74.4             2.6\n",
      "68  WS6         1.0        5.0             2.6             2.4\n",
      "67  FW1         1.0        7.0             4.6             2.4\n",
      "69  SL2         1.0       39.0            36.6             2.4\n",
      "73  ALT         1.0        6.0             3.7             2.3\n",
      "75  WS9         1.0       43.0            41.0             2.0\n",
      "78  CH1         1.0       19.0            17.1             1.9\n"
     ]
    }
   ],
   "source": [
    "top10 = MasterDfPart2[MasterDfPart2['Avg. Wins'] > MasterDfPart2['Exp. Avg. Wins']]\n",
    "print(top10.sort_values(by='Avg. Deviation', ascending=False)[:11])"
   ]
  },
  {
   "cell_type": "markdown",
   "metadata": {},
   "source": [
    "## Top 10 Underperforming Teams"
   ]
  },
  {
   "cell_type": "code",
   "execution_count": 21,
   "metadata": {
    "ExecuteTime": {
     "end_time": "2020-10-26T12:21:27.887470Z",
     "start_time": "2020-10-26T12:21:27.878468Z"
    }
   },
   "outputs": [
    {
     "name": "stdout",
     "output_type": "stream",
     "text": [
      "    Team  # of Years  Avg. Wins  Exp. Avg. Wins  Avg. Deviation\n",
      "149  BSU         1.0       56.0            62.6            -6.6\n",
      "142  HR1         2.0       35.0            41.3            -6.3\n",
      "148  IND         1.0       88.0            94.2            -6.2\n",
      "147  PHN         1.0       14.0            20.0            -6.0\n",
      "146  CHF         2.0       86.5            91.8            -5.3\n",
      "145  BFP         1.0       36.0            40.8            -4.8\n",
      "144  CNU         1.0       69.0            73.7            -4.7\n",
      "107  BLA         2.0       59.0            63.5            -4.5\n",
      "143  PHP         1.0       68.0            72.5            -4.5\n",
      "106  WSN         8.0       51.2            55.7            -4.4\n",
      "90   CN2         8.0       68.6            73.0            -4.4\n"
     ]
    }
   ],
   "source": [
    "bottom10 = MasterDfPart2[MasterDfPart2['Avg. Wins'] < MasterDfPart2['Exp. Avg. Wins']]\n",
    "print(bottom10.sort_values(by='Avg. Deviation', ascending=True)[:11])"
   ]
  },
  {
   "cell_type": "markdown",
   "metadata": {},
   "source": [
    "# Analysis - Part 3 - Home Field Advantage?\n",
    "## Now let's see if home field advantage helps teams outperform their expected win/loss totals.\n",
    "## "
   ]
  },
  {
   "cell_type": "code",
   "execution_count": 22,
   "metadata": {
    "ExecuteTime": {
     "end_time": "2020-10-26T12:27:51.146368Z",
     "start_time": "2020-10-26T12:21:27.888471Z"
    }
   },
   "outputs": [],
   "source": [
    "framesPart3 = []\n",
    "for i in filenames:\n",
    "    #print(i)\n",
    "    framesPart3.append(fileReaderPart3(i))\n",
    "\n",
    "#Part1Master = fileReader('GL2017.txt')\n",
    "#Part2Master = fileReader('GL1905.txt')\n",
    "#frames = [Part1Master, Part2Master]\n",
    "#result = pd.concat(frames).sort_values(by='Deviation', ascending=False)\n",
    "#result = result.drop_duplicates()\n"
   ]
  },
  {
   "cell_type": "code",
   "execution_count": 23,
   "metadata": {
    "ExecuteTime": {
     "end_time": "2020-10-26T12:27:52.053572Z",
     "start_time": "2020-10-26T12:27:51.148369Z"
    },
    "tags": []
   },
   "outputs": [],
   "source": [
    "MasterDfPart3 = Part3MasterFrame(framesPart3)\n",
    "MasterDfPart3 = MasterDfPart3[['Year', 'Team', '# Actual Wins', '# Expected Wins', 'Deviation']]"
   ]
  },
  {
   "cell_type": "code",
   "execution_count": 24,
   "metadata": {
    "ExecuteTime": {
     "end_time": "2020-10-26T12:27:52.060574Z",
     "start_time": "2020-10-26T12:27:52.054572Z"
    }
   },
   "outputs": [
    {
     "name": "stdout",
     "output_type": "stream",
     "text": [
      "     Year  Team  # Actual Wins  # Expected Wins  Deviation\n",
      "0    1871  Home           89.3             91.1       -1.8\n",
      "1    1871  Away           70.2             70.9       -0.7\n",
      "2    1872  Home           92.1             94.1       -2.0\n",
      "3    1872  Away           65.5             67.9       -2.4\n",
      "4    1873  Home          104.2            106.8       -2.6\n",
      "..    ...   ...            ...              ...        ...\n",
      "291  2016  Away           76.1             79.0       -2.9\n",
      "292  2017  Home           87.4             84.7        2.7\n",
      "293  2017  Away           74.6             77.3       -2.7\n",
      "294  2018  Home           85.5             83.8        1.7\n",
      "295  2018  Away           76.5             78.2       -1.7\n",
      "\n",
      "[296 rows x 5 columns]\n"
     ]
    }
   ],
   "source": [
    "print(MasterDfPart3)"
   ]
  },
  {
   "cell_type": "markdown",
   "metadata": {},
   "source": []
  }
 ],
 "metadata": {
  "kernelspec": {
   "display_name": "Python 3",
   "language": "python",
   "name": "python3"
  },
  "language_info": {
   "codemirror_mode": {
    "name": "ipython",
    "version": 3
   },
   "file_extension": ".py",
   "mimetype": "text/x-python",
   "name": "python",
   "nbconvert_exporter": "python",
   "pygments_lexer": "ipython3",
   "version": "3.7.9"
  },
  "varInspector": {
   "cols": {
    "lenName": 16,
    "lenType": 16,
    "lenVar": 40
   },
   "kernels_config": {
    "python": {
     "delete_cmd_postfix": "",
     "delete_cmd_prefix": "del ",
     "library": "var_list.py",
     "varRefreshCmd": "print(var_dic_list())"
    },
    "r": {
     "delete_cmd_postfix": ") ",
     "delete_cmd_prefix": "rm(",
     "library": "var_list.r",
     "varRefreshCmd": "cat(var_dic_list()) "
    }
   },
   "types_to_exclude": [
    "module",
    "function",
    "builtin_function_or_method",
    "instance",
    "_Feature"
   ],
   "window_display": false
  }
 },
 "nbformat": 4,
 "nbformat_minor": 4
}
