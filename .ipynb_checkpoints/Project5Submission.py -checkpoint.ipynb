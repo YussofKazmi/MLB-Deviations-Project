{
 "cells": [
  {
   "cell_type": "code",
   "execution_count": 1,
   "metadata": {
    "ExecuteTime": {
     "end_time": "2020-10-26T12:14:40.971738Z",
     "start_time": "2020-10-26T12:14:40.757690Z"
    }
   },
   "outputs": [],
   "source": [
    "import pandas as pd\n",
    "import numpy as np\n",
    "import os\n",
    "import csv\n",
    "\n",
    "df = pd.DataFrame(columns=['Date', 'Visiting Team', 'Home Team' , 'Visiting Score', 'Home Score'])\n"
   ]
  },
  {
   "cell_type": "code",
   "execution_count": 2,
   "metadata": {
    "ExecuteTime": {
     "end_time": "2020-10-26T12:14:40.975739Z",
     "start_time": "2020-10-26T12:14:40.972738Z"
    }
   },
   "outputs": [],
   "source": [
    "filenames = [i for i in os.listdir(\"data\")]\n",
    "filenames = sorted(filenames)[:-1]\n",
    "\n",
    "#(filenames)"
   ]
  },
  {
   "cell_type": "code",
   "execution_count": 3,
   "metadata": {
    "ExecuteTime": {
     "end_time": "2020-10-26T12:14:40.981740Z",
     "start_time": "2020-10-26T12:14:40.976740Z"
    }
   },
   "outputs": [],
   "source": [
    "def fileReader(i):\n",
    "    df = pd.DataFrame(columns=['Date', 'Visiting Team', 'Home Team' , 'Visiting Score', 'Home Score'])\n",
    "    with open('data\\\\' + i) as csvfile:\n",
    "        reader = csv.reader(csvfile, delimiter = ',')\n",
    "        for row in reader:\n",
    "            #print(row[0:11])\n",
    "            newRow = {\n",
    "                'Date': row[0][:4],\n",
    "                'Visiting Team' : row[3],\n",
    "                'Home Team' : row[6],\n",
    "                'Visiting Score' : int(row[9]),\n",
    "                'Home Score': int(row[10])\n",
    "                    }\n",
    "            #print(newRow)\n",
    "            df = df.append(newRow, ignore_index=True)\n",
    "        \n",
    "    return ReOrientForMasterDataFramePart1( df, teamData(df))\n"
   ]
  },
  {
   "cell_type": "code",
   "execution_count": 4,
   "metadata": {
    "ExecuteTime": {
     "end_time": "2020-10-26T12:14:40.990742Z",
     "start_time": "2020-10-26T12:14:40.982740Z"
    }
   },
   "outputs": [],
   "source": [
    "def fileReaderPart3(i):\n",
    "    df = pd.DataFrame(columns=['Date', 'Visiting Team', 'Home Team' , 'Visiting Score', 'Home Score'])\n",
    "    with open('data\\\\' + i) as csvfile:\n",
    "        reader = csv.reader(csvfile, delimiter = ',')\n",
    "        for row in reader:\n",
    "            #print(row[0:11])\n",
    "            newRow = {\n",
    "                'Date': row[0][:4],\n",
    "                'Visiting Team' : row[3],\n",
    "                'Home Team' : row[6],\n",
    "                'Visiting Score' : int(row[9]),\n",
    "                'Home Score': int(row[10])\n",
    "                    }\n",
    "            #print(newRow)\n",
    "            df = df.append(newRow, ignore_index=True)\n",
    "    return df"
   ]
  },
  {
   "cell_type": "code",
   "execution_count": 5,
   "metadata": {
    "ExecuteTime": {
     "end_time": "2020-10-26T12:14:41.000745Z",
     "start_time": "2020-10-26T12:14:40.991742Z"
    }
   },
   "outputs": [],
   "source": [
    "def GamesWon(teamName, df):\n",
    "    \n",
    "    homeDf = df[df['Home Team'] == teamName]\n",
    "    awayDf = df[df['Visiting Team'] == teamName]\n",
    "    \n",
    "    \n",
    "    gamesWonHome = pd.DataFrame(homeDf['Home Score'] > homeDf['Visiting Score'] , columns=['Trues'])\n",
    "    gamesWonAway = pd.DataFrame(awayDf['Visiting Score'] > awayDf['Home Score'] , columns=['Trues'])\n",
    "    \n",
    "    return len(gamesWonHome[gamesWonHome['Trues'] == True]) + len(gamesWonAway[gamesWonAway['Trues'] == True] )\n",
    "\n",
    "\n"
   ]
  },
  {
   "cell_type": "code",
   "execution_count": 6,
   "metadata": {
    "ExecuteTime": {
     "end_time": "2020-10-26T12:14:41.008746Z",
     "start_time": "2020-10-26T12:14:41.001744Z"
    }
   },
   "outputs": [],
   "source": [
    "def teamData(df):\n",
    "    teamAndScores = {}\n",
    "    for i in df['Visiting Team'].unique():\n",
    "        homeTeam, awayTeam = df[df['Home Team'] == i].sum(), df[df['Visiting Team'] == i].sum()\n",
    "        RunsAllowed, RunsScored = (homeTeam['Visiting Score'] + awayTeam['Home Score']), (homeTeam['Home Score'] + awayTeam['Visiting Score'])\n",
    "        expectedWinning = (RunsScored * RunsScored) / ((RunsScored * RunsScored) + (RunsAllowed * RunsAllowed))\n",
    "        teamAndScores[i] = {\n",
    "            'Year': df['Date'][0],\n",
    "            'Expected Winning %' : expectedWinning,\n",
    "            '# Of Games': len(df[df['Visiting Team'] == i] + df[df['Home Team'] == i]),\n",
    "            'Expected Games Won': expectedWinning* len(df[df['Visiting Team'] == i] + df[df['Home Team'] == i]),\n",
    "            'Number Of Games Won': GamesWon(i, df),\n",
    "            'Deviation': round(float(GamesWon(i, df) -  expectedWinning* len(df[df['Visiting Team'] == i] + df[df['Home Team'] == i])), 1)\n",
    "        }\n",
    "    return teamAndScores \n",
    "\n",
    "#teamAndScores = teamData(df)"
   ]
  },
  {
   "cell_type": "code",
   "execution_count": 7,
   "metadata": {
    "ExecuteTime": {
     "end_time": "2020-10-26T12:14:41.015748Z",
     "start_time": "2020-10-26T12:14:41.009746Z"
    }
   },
   "outputs": [],
   "source": [
    "\n",
    "def ReOrientForMasterDataFramePart1(df, teamAndScores = teamData(df)):\n",
    "\n",
    "    Part1Df = pd.DataFrame(columns=['Date', 'Name', 'Exp. Wins', 'Actual Wins', 'Deviation'])\n",
    "    for i in teamAndScores.keys():\n",
    "        \n",
    "        temp = {\n",
    "            'Date': teamAndScores[i]['Year'],\n",
    "            'Name': i,\n",
    "            'Exp. Wins': teamAndScores[i]['Expected Games Won'],\n",
    "            'Actual Wins' : teamAndScores[i]['Number Of Games Won'],\n",
    "            'Deviation': teamAndScores[i]['Deviation']\n",
    "            }\n",
    "\n",
    "        Part1Df = Part1Df.append(temp, ignore_index=True)\n",
    "        Part1Df = Part1Df.sort_values(by='Deviation', ascending=False)\n",
    "\n",
    "    return Part1Df\n",
    "    \n",
    "\n"
   ]
  },
  {
   "cell_type": "code",
   "execution_count": 8,
   "metadata": {
    "ExecuteTime": {
     "end_time": "2020-10-26T12:14:41.023750Z",
     "start_time": "2020-10-26T12:14:41.017749Z"
    }
   },
   "outputs": [],
   "source": [
    "def part2FramesCalculator(result):\n",
    "    teamFrames ={} #container for all the team frames\n",
    "\n",
    "    for i in result['Name'].unique():\n",
    "        teamFrames[i] = result[result['Name'] == i]\n",
    "       \n",
    "\n",
    "    return teamFrames"
   ]
  },
  {
   "cell_type": "code",
   "execution_count": 9,
   "metadata": {
    "ExecuteTime": {
     "end_time": "2020-10-26T12:14:41.029750Z",
     "start_time": "2020-10-26T12:14:41.024750Z"
    }
   },
   "outputs": [],
   "source": [
    "def part2MasterFrame(teamDict):\n",
    "    teamRow = {}\n",
    "    \n",
    "    for team in teamDict.keys():\n",
    "        teamRow[team] = {\n",
    "            'Team': team,\n",
    "            '# of Years': int(len(teamDict[team]['Name'])),\n",
    "            'Avg. Wins': round(teamDict[team]['Actual Wins'].mean(), 1),\n",
    "            'Exp. Avg. Wins': round(teamDict[team]['Exp. Wins'].mean(), 1),\n",
    "            'Avg. Deviation': round(teamDict[team]['Actual Wins'].mean() - teamDict[team]['Exp. Wins'].mean(), 1)\n",
    "        }\n",
    "        \n",
    "       \n",
    "    return teamRow"
   ]
  },
  {
   "cell_type": "code",
   "execution_count": 10,
   "metadata": {
    "ExecuteTime": {
     "end_time": "2020-10-26T12:14:41.037754Z",
     "start_time": "2020-10-26T12:14:41.030752Z"
    }
   },
   "outputs": [],
   "source": [
    "def homeGamesWonPart3(yearDataFrame):\n",
    "    \n",
    "    \n",
    "    gamesWonHome = pd.DataFrame(yearDataFrame['Home Score'] > yearDataFrame['Visiting Score'] , columns=['Trues'])\n",
    "   \n",
    "    return len(gamesWonHome[gamesWonHome['Trues'] == True]) /len(yearDataFrame) * 162\n"
   ]
  },
  {
   "cell_type": "code",
   "execution_count": 11,
   "metadata": {
    "ExecuteTime": {
     "end_time": "2020-10-26T12:14:41.045755Z",
     "start_time": "2020-10-26T12:14:41.038753Z"
    }
   },
   "outputs": [],
   "source": [
    "def awayGamesWonPart3(yearDataFrame):\n",
    "    gamesWonAway = pd.DataFrame(yearDataFrame['Home Score'] < yearDataFrame['Visiting Score'] , columns=['Trues'])\n",
    "   \n",
    "    return len(gamesWonAway[gamesWonAway['Trues'] == True])/len(yearDataFrame) * 162"
   ]
  },
  {
   "cell_type": "code",
   "execution_count": 12,
   "metadata": {
    "ExecuteTime": {
     "end_time": "2020-10-26T12:14:41.051756Z",
     "start_time": "2020-10-26T12:14:41.046756Z"
    }
   },
   "outputs": [],
   "source": [
    "def expectedWinsPart3(season):\n",
    "\n",
    "    runsHomeScored = sum(season['Home Score'])\n",
    "    runsAwayScored = sum(season['Visiting Score'])\n",
    "    \n",
    "    runsHomeScored = round((runsHomeScored **2/((runsHomeScored**2) + (runsAwayScored**2))) * 162, 1)\n",
    "    runsAwayScored = round((runsAwayScored **2/((sum(season['Home Score'])**2) + (runsAwayScored**2))) * 162, 1) \n",
    "\n",
    "\n",
    "    return (runsHomeScored, runsAwayScored)"
   ]
  },
  {
   "cell_type": "code",
   "execution_count": 13,
   "metadata": {
    "ExecuteTime": {
     "end_time": "2020-10-26T12:14:41.058757Z",
     "start_time": "2020-10-26T12:14:41.052756Z"
    }
   },
   "outputs": [],
   "source": [
    "def Part3MasterFrame(framesPart3):\n",
    "    teamDictPart3 = {}\n",
    "    MasterDfPart3 = pd.DataFrame()\n",
    "    for season in framesPart3:  \n",
    "       expWins = expectedWinsPart3(season)\n",
    "       teamDictPart3[season['Date'][0]] = [{\n",
    "                'Year': season['Date'][0],\n",
    "                'Team' : 'Home',\n",
    "                '# Actual Wins': round(homeGamesWonPart3(season), 1),\n",
    "                '# Expected Wins': expWins[0],\n",
    "                'Deviation': round(homeGamesWonPart3(season) - expWins[0], 1)\n",
    "                },{\n",
    "                'Year': season['Date'][0],\n",
    "                'Team' : 'Away',\n",
    "                '# Actual Wins': round(awayGamesWonPart3(season), 1),\n",
    "                '# Expected Wins': expWins[1],\n",
    "                'Deviation': round(awayGamesWonPart3(season) - expWins[1], 1)\n",
    "                }\n",
    "                ]\n",
    "                \n",
    "    for season in teamDictPart3.keys():\n",
    "        MasterDfPart3 = MasterDfPart3.append(teamDictPart3[season][0], ignore_index=True)\n",
    "        MasterDfPart3 = MasterDfPart3.append(teamDictPart3[season][1], ignore_index=True)\n",
    "    \n",
    "    \n",
    "    return MasterDfPart3"
   ]
  },
  {
   "cell_type": "markdown",
   "metadata": {},
   "source": [
    "# Analysis - Part 1 - Great Team Performances\n",
    "## 1.) Calculates the expected win/loss pct for each an every team in the MLB, from the years 1871-2018.\n",
    "## 2.) List the top 50 teams performances - measured by how many games the team outperformed (more wins) their expected win loss in the given year."
   ]
  },
  {
   "cell_type": "code",
   "execution_count": 14,
   "metadata": {
    "ExecuteTime": {
     "end_time": "2020-10-26T12:14:41.068760Z",
     "start_time": "2020-10-26T12:14:41.059757Z"
    }
   },
   "outputs": [],
   "source": [
    "MasterDf = pd.DataFrame(columns=['Date', 'Name', 'Exp. Wins', 'Actual Wins', 'Deviation'])"
   ]
  },
  {
   "cell_type": "markdown",
   "metadata": {},
   "source": [
    "## Part 1 DataFrame Construction and Display\n"
   ]
  },
  {
   "cell_type": "code",
   "execution_count": null,
   "metadata": {
    "ExecuteTime": {
     "start_time": "2020-10-26T12:14:40.775Z"
    }
   },
   "outputs": [],
   "source": [
    "frames = []\n",
    "for i in filenames:\n",
    "    #print(i)\n",
    "    frames.append(fileReader(i))\n",
    "\n",
    "#Part1Master = fileReader('GL2017.txt')\n",
    "#Part2Master = fileReader('GL1905.txt')\n",
    "#frames = [Part1Master, Part2Master]\n",
    "result = pd.concat(frames).sort_values(by='Deviation', ascending=False)\n",
    "result = result.drop_duplicates()\n",
    "print(result) \n"
   ]
  },
  {
   "cell_type": "markdown",
   "metadata": {},
   "source": [
    "## Part 1 Top 50 "
   ]
  },
  {
   "cell_type": "code",
   "execution_count": null,
   "metadata": {
    "ExecuteTime": {
     "start_time": "2020-10-26T12:14:40.777Z"
    }
   },
   "outputs": [],
   "source": [
    "print(result[:51])"
   ]
  },
  {
   "cell_type": "markdown",
   "metadata": {},
   "source": [
    "# Analysis - Part 2 - Historically Lucky and Unlucky Teams\n",
    "## 1.) Calculate the average deviation (in games) between actual performance and expected performance across all years for each team\n",
    "## 2.) Lists top 10 overperforming teams (actually won more games than expected)\n",
    "## 3.) Lists top 10 underperforming teams (actually won less games than expected)."
   ]
  },
  {
   "cell_type": "code",
   "execution_count": null,
   "metadata": {
    "ExecuteTime": {
     "start_time": "2020-10-26T12:14:40.778Z"
    }
   },
   "outputs": [],
   "source": [
    "teamDict = part2MasterFrame(part2FramesCalculator(result))\n",
    "MasterDfPart2 = pd.DataFrame()\n",
    "for i in teamDict.keys():\n",
    "    MasterDfPart2 = MasterDfPart2.append(teamDict[i], ignore_index= True)"
   ]
  },
  {
   "cell_type": "code",
   "execution_count": null,
   "metadata": {
    "ExecuteTime": {
     "start_time": "2020-10-26T12:14:40.779Z"
    }
   },
   "outputs": [],
   "source": [
    "MasterDfPart2 = MasterDfPart2[['Team', '# of Years', 'Avg. Wins', 'Exp. Avg. Wins', 'Avg. Deviation']]\n"
   ]
  },
  {
   "cell_type": "code",
   "execution_count": null,
   "metadata": {
    "ExecuteTime": {
     "start_time": "2020-10-26T12:14:40.779Z"
    }
   },
   "outputs": [],
   "source": [
    "\n",
    "bottom10 = MasterDfPart2[MasterDfPart2['Avg. Wins'] < MasterDfPart2['Exp. Avg. Wins']]"
   ]
  },
  {
   "cell_type": "markdown",
   "metadata": {},
   "source": [
    "## Top 10 Performing Teams"
   ]
  },
  {
   "cell_type": "code",
   "execution_count": null,
   "metadata": {
    "ExecuteTime": {
     "start_time": "2020-10-26T12:14:40.781Z"
    }
   },
   "outputs": [],
   "source": [
    "top10 = MasterDfPart2[MasterDfPart2['Avg. Wins'] > MasterDfPart2['Exp. Avg. Wins']]\n",
    "print(top10.sort_values(by='Avg. Deviation', ascending=False)[:11])"
   ]
  },
  {
   "cell_type": "markdown",
   "metadata": {},
   "source": [
    "## Top 10 Underperforming Teams"
   ]
  },
  {
   "cell_type": "code",
   "execution_count": null,
   "metadata": {
    "ExecuteTime": {
     "start_time": "2020-10-26T12:14:40.782Z"
    }
   },
   "outputs": [],
   "source": [
    "bottom10 = MasterDfPart2[MasterDfPart2['Avg. Wins'] < MasterDfPart2['Exp. Avg. Wins']]\n",
    "print(bottom10.sort_values(by='Avg. Deviation', ascending=True)[:11])"
   ]
  },
  {
   "cell_type": "markdown",
   "metadata": {},
   "source": [
    "# Analysis - Part 3 - Home Field Advantage?\n",
    "## Now let's see if home field advantage helps teams outperform their expected win/loss totals.\n",
    "## "
   ]
  },
  {
   "cell_type": "code",
   "execution_count": null,
   "metadata": {
    "ExecuteTime": {
     "start_time": "2020-10-26T12:14:40.783Z"
    }
   },
   "outputs": [],
   "source": [
    "framesPart3 = []\n",
    "for i in filenames:\n",
    "    #print(i)\n",
    "    framesPart3.append(fileReaderPart3(i))\n",
    "\n",
    "#Part1Master = fileReader('GL2017.txt')\n",
    "#Part2Master = fileReader('GL1905.txt')\n",
    "#frames = [Part1Master, Part2Master]\n",
    "#result = pd.concat(frames).sort_values(by='Deviation', ascending=False)\n",
    "#result = result.drop_duplicates()\n"
   ]
  },
  {
   "cell_type": "code",
   "execution_count": null,
   "metadata": {
    "ExecuteTime": {
     "start_time": "2020-10-26T12:14:40.783Z"
    },
    "tags": []
   },
   "outputs": [],
   "source": [
    "MasterDfPart3 = Part3MasterFrame(framesPart3)\n",
    "MasterDfPart3 = MasterDfPart3[['Year', 'Team', '# Actual Wins', '# Expected Wins', 'Deviation']]"
   ]
  },
  {
   "cell_type": "code",
   "execution_count": null,
   "metadata": {
    "ExecuteTime": {
     "start_time": "2020-10-26T12:14:40.784Z"
    }
   },
   "outputs": [],
   "source": [
    "print(MasterDfPart3)"
   ]
  },
  {
   "cell_type": "markdown",
   "metadata": {},
   "source": []
  }
 ],
 "metadata": {
  "kernelspec": {
   "display_name": "Python 3",
   "language": "python",
   "name": "python3"
  },
  "language_info": {
   "codemirror_mode": {
    "name": "ipython",
    "version": 3
   },
   "file_extension": ".py",
   "mimetype": "text/x-python",
   "name": "python",
   "nbconvert_exporter": "python",
   "pygments_lexer": "ipython3",
   "version": "3.7.9"
  },
  "varInspector": {
   "cols": {
    "lenName": 16,
    "lenType": 16,
    "lenVar": 40
   },
   "kernels_config": {
    "python": {
     "delete_cmd_postfix": "",
     "delete_cmd_prefix": "del ",
     "library": "var_list.py",
     "varRefreshCmd": "print(var_dic_list())"
    },
    "r": {
     "delete_cmd_postfix": ") ",
     "delete_cmd_prefix": "rm(",
     "library": "var_list.r",
     "varRefreshCmd": "cat(var_dic_list()) "
    }
   },
   "types_to_exclude": [
    "module",
    "function",
    "builtin_function_or_method",
    "instance",
    "_Feature"
   ],
   "window_display": false
  }
 },
 "nbformat": 4,
 "nbformat_minor": 4
}
